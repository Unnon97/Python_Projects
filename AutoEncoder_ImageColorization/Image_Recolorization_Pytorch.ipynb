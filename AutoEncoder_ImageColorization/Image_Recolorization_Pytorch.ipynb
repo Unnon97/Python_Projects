{
 "cells": [
  {
   "cell_type": "markdown",
   "id": "d5fc9232",
   "metadata": {},
   "source": [
    "# Image Recolorization using Autoencoder network\n",
    "\n",
    "For any image, utiliting the autoencoder network can help us understand the latent variables that dictate the image pixels. Hence, in this project, we work on building an Encoder net to find the latent space of gray images and map them such that we colorize the gray images by training the network through Backpropagation utiliting same images in colour format\n",
    "\n",
    "## About the dataset\n",
    "The dataset is taken from Kaggle: Landscape color and grayscale images. Here we have a set of gray and color versions of same images to help us train the model.\n",
    "\n",
    "## About the network\n",
    "We use Pytorch implementation of network to understand the process of building network architecture "
   ]
  },
  {
   "cell_type": "code",
   "execution_count": null,
   "id": "0584f775",
   "metadata": {},
   "outputs": [],
   "source": [
    "import numpy as np\n",
    "import os\n",
    "import matplotlib.pyplot as plt\n",
    "from torch.utils.data import DataLoader\n",
    "import torch.nn.functional as F\n",
    "import torch\n",
    "import pandas as pd\n",
    "from skimage.color import rgb2lab, lab2rgb\n",
    "from torchsummary import summary\n",
    "import random\n",
    "from torchvision.io import read_image\n",
    "from torch.utils.data import Dataset"
   ]
  },
  {
   "cell_type": "code",
   "execution_count": 14,
   "id": "82fb689b",
   "metadata": {},
   "outputs": [],
   "source": [
    "home = 'data/landscape Images/'\n",
    "total_images = len(os.listdir(home+'color'))"
   ]
  },
  {
   "cell_type": "code",
   "execution_count": 15,
   "id": "7f9cefc2",
   "metadata": {},
   "outputs": [
    {
     "data": {
      "text/plain": [
       "(5703, 1426)"
      ]
     },
     "execution_count": 15,
     "metadata": {},
     "output_type": "execute_result"
    }
   ],
   "source": [
    "random_indices = random.sample(list(range(total_images)),total_images)\n",
    "train_nums = round(total_images*0.8)\n",
    "train_indices = random_indices[:train_nums]\n",
    "test_indices = random_indices[train_nums:]\n",
    "len(train_indices), len(test_indices)"
   ]
  },
  {
   "cell_type": "code",
   "execution_count": null,
   "id": "30fb7fa1",
   "metadata": {},
   "outputs": [],
   "source": [
    "class Encoder(Dataset):\n",
    "    def __init__(self, indices, imd_dir, transform = None):\n",
    "        self.img_dir = img_dir\n",
    "        self.transform = transform\n",
    "        self.img_indices = indices\n",
    "        self.gray_path = img_dir+'gray/'\n",
    "        self.color_path = img_dir+'color/'\n",
    "    \n",
    "    def __len__(self):\n",
    "        return len(self.img_indices)\n",
    "\n",
    "    def __getitem__(self, idx):\n",
    "        "
   ]
  }
 ],
 "metadata": {
  "kernelspec": {
   "display_name": "Python 3 (ipykernel)",
   "language": "python",
   "name": "python3"
  },
  "language_info": {
   "codemirror_mode": {
    "name": "ipython",
    "version": 3
   },
   "file_extension": ".py",
   "mimetype": "text/x-python",
   "name": "python",
   "nbconvert_exporter": "python",
   "pygments_lexer": "ipython3",
   "version": "3.10.4"
  }
 },
 "nbformat": 4,
 "nbformat_minor": 5
}
