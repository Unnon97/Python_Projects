{
 "cells": [
  {
   "cell_type": "code",
   "execution_count": 1,
   "id": "cf04eed8",
   "metadata": {},
   "outputs": [],
   "source": [
    "workspace_PATH = 'workspace'\n",
    "scripts_PATH = 'scripts'\n",
    "apimodel_PATH = 'models'\n",
    "annotation_PATH = workspace_PATH + '/annotations'\n",
    "image_PATH = workspace_PATH +'/images'\n",
    "model_PATH = workspace_PATH +'/models'\n",
    "pretrained_model_PATH = workspace_PATH +'/pre-trained-models'\n",
    "config_PATH = model_PATH + '/my_ssd_modnet/pipeline.config'\n",
    "checkpoint_PATH = model_PATH + '/my_ssd_modenet/'"
   ]
  },
  {
   "cell_type": "code",
   "execution_count": 2,
   "id": "e5594f19",
   "metadata": {},
   "outputs": [],
   "source": [
    "labels = [{'name':'face_with_mask','id':1}, {'name': 'face_no_mask','id':2}]"
   ]
  },
  {
   "cell_type": "code",
   "execution_count": 3,
   "id": "187cd349",
   "metadata": {},
   "outputs": [
    {
     "data": {
      "text/plain": [
       "[{'name': 'face_with_mask', 'id': 1}, {'name': 'face_no_mask', 'id': 2}]"
      ]
     },
     "execution_count": 3,
     "metadata": {},
     "output_type": "execute_result"
    }
   ],
   "source": [
    "labels"
   ]
  },
  {
   "cell_type": "code",
   "execution_count": 4,
   "id": "9e543e0b",
   "metadata": {},
   "outputs": [],
   "source": [
    "with open(annotation_PATH + '/label_map.pbtxt','w' ) as f:\n",
    "    for label in labels:\n",
    "        f.write('item[\\n')\n",
    "        f.write('\\tname:\\'{}\\'\\n'.format(label['name']))\n",
    "        f.write('\\tid:{}\\n'.format(label['id']))\n",
    "        f.write('}\\n')"
   ]
  },
  {
   "cell_type": "code",
   "execution_count": 5,
   "id": "6851d208",
   "metadata": {},
   "outputs": [
    {
     "name": "stdout",
     "output_type": "stream",
     "text": [
      "Traceback (most recent call last):\r\n",
      "  File \"/home/dheeraj/Desktop/RWTH/Coding/CV/scripts/generate_tfrecord.py\", line 61, in <module>\r\n",
      "    label_map = label_map_util.load_labelmap(args.labels_path)\r\n",
      "  File \"/home/dheeraj/anaconda3/envs/Coding/lib/python3.9/site-packages/object_detection/utils/label_map_util.py\", line 132, in load_labelmap\r\n",
      "    with tf.gfile.GFile(path, 'r') as fid:\r\n",
      "AttributeError: module 'tensorflow' has no attribute 'gfile'\r\n"
     ]
    }
   ],
   "source": [
    "!python {scripts_PATH+ '/generate_tfrecord.py'} -x {image_PATH + '/train'} -l {annotation_PATH + '/label_map.pbtxt'} -o {annotation_PATH + '/train.record'}"
   ]
  },
  {
   "cell_type": "code",
   "execution_count": null,
   "id": "821f9de0",
   "metadata": {},
   "outputs": [],
   "source": []
  }
 ],
 "metadata": {
  "kernelspec": {
   "display_name": "Python 3 (ipykernel)",
   "language": "python",
   "name": "python3"
  },
  "language_info": {
   "codemirror_mode": {
    "name": "ipython",
    "version": 3
   },
   "file_extension": ".py",
   "mimetype": "text/x-python",
   "name": "python",
   "nbconvert_exporter": "python",
   "pygments_lexer": "ipython3",
   "version": "3.9.12"
  }
 },
 "nbformat": 4,
 "nbformat_minor": 5
}
