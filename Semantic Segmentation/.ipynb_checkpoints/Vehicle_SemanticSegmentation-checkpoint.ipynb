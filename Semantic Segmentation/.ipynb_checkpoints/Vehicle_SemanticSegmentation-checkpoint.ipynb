{
 "cells": [
  {
   "cell_type": "markdown",
   "id": "e96e9537",
   "metadata": {},
   "source": [
    "# Semantic Segmentation\n",
    "\n",
    "Using the videos and photos taken from dash cams, we can see front view of a car driving along the road in a city or countryside. In this project, we build a semantic segmentation model using image set from Kaggle\n",
    "\n",
    "## About the dataset\n",
    "The dataset is taken from Kaggle: Semantic Segmentation for Self Driving Cars. The dataset contains sets of RGB images and corresponding semantic segments  of 5 x 1000 images with labels.\n",
    "\n",
    "## About the model\n"
   ]
  },
  {
   "cell_type": "code",
   "execution_count": null,
   "id": "f5ac5086",
   "metadata": {},
   "outputs": [],
   "source": []
  }
 ],
 "metadata": {
  "kernelspec": {
   "display_name": "Python 3 (ipykernel)",
   "language": "python",
   "name": "python3"
  },
  "language_info": {
   "codemirror_mode": {
    "name": "ipython",
    "version": 3
   },
   "file_extension": ".py",
   "mimetype": "text/x-python",
   "name": "python",
   "nbconvert_exporter": "python",
   "pygments_lexer": "ipython3",
   "version": "3.10.4"
  }
 },
 "nbformat": 4,
 "nbformat_minor": 5
}
