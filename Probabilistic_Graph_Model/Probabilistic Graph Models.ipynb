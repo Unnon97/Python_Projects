{
 "cells": [
  {
   "cell_type": "code",
   "execution_count": 54,
   "id": "024b7472",
   "metadata": {},
   "outputs": [],
   "source": [
    "from pgmpy.factors.discrete import TabularCPD\n",
    "from pgmpy.models import BayesianNetwork\n",
    "from pgmpy.inference import VariableElimination"
   ]
  },
  {
   "cell_type": "code",
   "execution_count": 55,
   "id": "e8af90a6",
   "metadata": {},
   "outputs": [],
   "source": [
    "food_model = BayesianNetwork([('GroceryShopping', 'MealPrepared'),\n",
    "                            ('CookingTime','MealPrepared'),\n",
    "                            ('MealPrepared','Satisfied')])"
   ]
  },
  {
   "cell_type": "code",
   "execution_count": 56,
   "id": "14aa41d6",
   "metadata": {},
   "outputs": [
    {
     "name": "stdout",
     "output_type": "stream",
     "text": [
      "(3, 4)\n"
     ]
    }
   ],
   "source": [
    "import numpy as np\n",
    "values=np.array([[0.5, 0.8, 0.8, 0.9],[0.3, 0.15, 0.1, 0.08],[0.2, 0.05, 0.1, 0.02]])\n",
    "print(values.shape)"
   ]
  },
  {
   "cell_type": "code",
   "execution_count": 81,
   "id": "8b58d53c",
   "metadata": {},
   "outputs": [],
   "source": [
    "grocery_cpd = TabularCPD(variable = 'GroceryShopping', variable_card=2, values=[[0.2],[0.8]])\n",
    "\n",
    "cooking_cpd = TabularCPD(variable = 'CookingTime', variable_card=2, values=[[0.7],[0.3]])\n",
    "\n",
    "hunger_cpd = TabularCPD(variable = 'Satisfied', variable_card=2, values=[[0.95,0.8,0.5],\n",
    "                                                                      [0.05,0.2,0.5]], \n",
    "                        evidence =['MealPrepared'], evidence_card=[3]) \n",
    "\n",
    "mealprep_cpd = TabularCPD(variable = 'MealPrepared', variable_card = 3, values = [[0.5, 0.8, 0.8, 0.9],\n",
    "                                                                                 [0.3, 0.15, 0.1, 0.08],\n",
    "                                                                                 [0.2, 0.05, 0.1, 0.02]],\n",
    "                         evidence= ['GroceryShopping', 'CookingTime'],\n",
    "                         evidence_card= [2,2])"
   ]
  },
  {
   "cell_type": "code",
   "execution_count": 82,
   "id": "82e02b18",
   "metadata": {},
   "outputs": [],
   "source": [
    "food_model.add_cpds(grocery_cpd,cooking_cpd,hunger_cpd,mealprep_cpd)"
   ]
  },
  {
   "cell_type": "code",
   "execution_count": 83,
   "id": "517a0ddb",
   "metadata": {},
   "outputs": [
    {
     "data": {
      "text/plain": [
       "[<TabularCPD representing P(GroceryShopping:2) at 0x7f53d759f550>,\n",
       " <TabularCPD representing P(CookingTime:2) at 0x7f53d759f280>,\n",
       " <TabularCPD representing P(Satisfied:2 | MealPrepared:3) at 0x7f53d759f100>,\n",
       " <TabularCPD representing P(MealPrepared:3 | GroceryShopping:2, CookingTime:2) at 0x7f53d759f760>]"
      ]
     },
     "execution_count": 83,
     "metadata": {},
     "output_type": "execute_result"
    }
   ],
   "source": [
    "food_model.get_cpds()"
   ]
  },
  {
   "cell_type": "markdown",
   "id": "e258a1f7",
   "metadata": {},
   "source": [
    "## Active Dependencies"
   ]
  },
  {
   "cell_type": "code",
   "execution_count": 84,
   "id": "40d24265",
   "metadata": {},
   "outputs": [
    {
     "data": {
      "text/plain": [
       "{'GroceryShopping': {'GroceryShopping', 'MealPrepared', 'Satisfied'}}"
      ]
     },
     "execution_count": 84,
     "metadata": {},
     "output_type": "execute_result"
    }
   ],
   "source": [
    "food_model.active_trail_nodes('GroceryShopping')"
   ]
  },
  {
   "cell_type": "code",
   "execution_count": 85,
   "id": "201fa824",
   "metadata": {},
   "outputs": [
    {
     "data": {
      "text/plain": [
       "{'MealPrepared': {'CookingTime',\n",
       "  'GroceryShopping',\n",
       "  'MealPrepared',\n",
       "  'Satisfied'}}"
      ]
     },
     "execution_count": 85,
     "metadata": {},
     "output_type": "execute_result"
    }
   ],
   "source": [
    "food_model.active_trail_nodes('MealPrepared')"
   ]
  },
  {
   "cell_type": "markdown",
   "id": "9ce3661e",
   "metadata": {},
   "source": [
    "## Local Independencies"
   ]
  },
  {
   "cell_type": "code",
   "execution_count": 86,
   "id": "a6d9ecb3",
   "metadata": {},
   "outputs": [
    {
     "data": {
      "text/plain": [
       "(GroceryShopping ⟂ CookingTime)"
      ]
     },
     "execution_count": 86,
     "metadata": {},
     "output_type": "execute_result"
    }
   ],
   "source": [
    "food_model.local_independencies('GroceryShopping')"
   ]
  },
  {
   "cell_type": "code",
   "execution_count": 87,
   "id": "eb2d9092",
   "metadata": {},
   "outputs": [
    {
     "data": {
      "text/plain": []
     },
     "execution_count": 87,
     "metadata": {},
     "output_type": "execute_result"
    }
   ],
   "source": [
    "food_model.local_independencies('MealPrepared')"
   ]
  },
  {
   "cell_type": "code",
   "execution_count": 88,
   "id": "267d639c",
   "metadata": {},
   "outputs": [
    {
     "data": {
      "text/plain": [
       "(Satisfied ⟂ GroceryShopping, CookingTime | MealPrepared)\n",
       "(Satisfied ⟂ CookingTime | MealPrepared, GroceryShopping)\n",
       "(Satisfied ⟂ GroceryShopping | MealPrepared, CookingTime)\n",
       "(GroceryShopping ⟂ CookingTime)\n",
       "(GroceryShopping ⟂ Satisfied | MealPrepared)\n",
       "(GroceryShopping ⟂ Satisfied | MealPrepared, CookingTime)\n",
       "(CookingTime ⟂ GroceryShopping)\n",
       "(CookingTime ⟂ Satisfied | MealPrepared)\n",
       "(CookingTime ⟂ Satisfied | MealPrepared, GroceryShopping)"
      ]
     },
     "execution_count": 88,
     "metadata": {},
     "output_type": "execute_result"
    }
   ],
   "source": [
    "food_model.get_independencies()"
   ]
  },
  {
   "cell_type": "code",
   "execution_count": 89,
   "id": "5e288328",
   "metadata": {},
   "outputs": [],
   "source": [
    "food_infere = VariableElimination(food_model)"
   ]
  },
  {
   "cell_type": "code",
   "execution_count": 90,
   "id": "7d217a66",
   "metadata": {},
   "outputs": [
    {
     "data": {
      "application/vnd.jupyter.widget-view+json": {
       "model_id": "e3a29a0cb18047d78a855904dbdbc954",
       "version_major": 2,
       "version_minor": 0
      },
      "text/plain": [
       "  0%|          | 0/3 [00:00<?, ?it/s]"
      ]
     },
     "metadata": {},
     "output_type": "display_data"
    },
    {
     "data": {
      "application/vnd.jupyter.widget-view+json": {
       "model_id": "6091358548ee4ee8bdff09417230875f",
       "version_major": 2,
       "version_minor": 0
      },
      "text/plain": [
       "  0%|          | 0/3 [00:00<?, ?it/s]"
      ]
     },
     "metadata": {},
     "output_type": "display_data"
    },
    {
     "name": "stdout",
     "output_type": "stream",
     "text": [
      "+--------------+------------------+\n",
      "| Satisfied    |   phi(Satisfied) |\n",
      "+==============+==================+\n",
      "| Satisfied(0) |           0.8898 |\n",
      "+--------------+------------------+\n",
      "| Satisfied(1) |           0.1102 |\n",
      "+--------------+------------------+\n"
     ]
    }
   ],
   "source": [
    "prob_hunger = food_infere.query(variables = ['Satisfied'] )\n",
    "print(prob_hunger)"
   ]
  },
  {
   "cell_type": "code",
   "execution_count": 91,
   "id": "99b2b528",
   "metadata": {},
   "outputs": [
    {
     "data": {
      "application/vnd.jupyter.widget-view+json": {
       "model_id": "ad742404eb944eb9aff7a89cba77ce61",
       "version_major": 2,
       "version_minor": 0
      },
      "text/plain": [
       "  0%|          | 0/2 [00:00<?, ?it/s]"
      ]
     },
     "metadata": {},
     "output_type": "display_data"
    },
    {
     "data": {
      "application/vnd.jupyter.widget-view+json": {
       "model_id": "1115be1a727c4da483d4cb8e111bf613",
       "version_major": 2,
       "version_minor": 0
      },
      "text/plain": [
       "  0%|          | 0/2 [00:00<?, ?it/s]"
      ]
     },
     "metadata": {},
     "output_type": "display_data"
    },
    {
     "name": "stdout",
     "output_type": "stream",
     "text": [
      "+--------------+--------------------+----------------------------------+\n",
      "| Satisfied    | GroceryShopping    |   phi(Satisfied,GroceryShopping) |\n",
      "+==============+====================+==================================+\n",
      "| Satisfied(0) | GroceryShopping(0) |                           0.1684 |\n",
      "+--------------+--------------------+----------------------------------+\n",
      "| Satisfied(0) | GroceryShopping(1) |                           0.7214 |\n",
      "+--------------+--------------------+----------------------------------+\n",
      "| Satisfied(1) | GroceryShopping(0) |                           0.0316 |\n",
      "+--------------+--------------------+----------------------------------+\n",
      "| Satisfied(1) | GroceryShopping(1) |                           0.0786 |\n",
      "+--------------+--------------------+----------------------------------+\n"
     ]
    }
   ],
   "source": [
    "prob_satisfied_grocery_bought = food_infere.query(variables = ['Satisfied', 'GroceryShopping'] )\n",
    "print(prob_satisfied_grocery_bought)\n",
    "# print(prob_hunger_grocery_bought['Hunger'])"
   ]
  },
  {
   "cell_type": "code",
   "execution_count": 92,
   "id": "b8fd5e2d",
   "metadata": {},
   "outputs": [
    {
     "data": {
      "application/vnd.jupyter.widget-view+json": {
       "model_id": "c081b98c92d44adaa9a6387ff77584ac",
       "version_major": 2,
       "version_minor": 0
      },
      "text/plain": [
       "  0%|          | 0/2 [00:00<?, ?it/s]"
      ]
     },
     "metadata": {},
     "output_type": "display_data"
    },
    {
     "data": {
      "application/vnd.jupyter.widget-view+json": {
       "model_id": "6acf0c98dc484a708c69eb732b47c46d",
       "version_major": 2,
       "version_minor": 0
      },
      "text/plain": [
       "  0%|          | 0/2 [00:00<?, ?it/s]"
      ]
     },
     "metadata": {},
     "output_type": "display_data"
    },
    {
     "name": "stdout",
     "output_type": "stream",
     "text": [
      "+-----------------+--------------+-------------------------------+\n",
      "| MealPrepared    | Satisfied    |   phi(MealPrepared,Satisfied) |\n",
      "+=================+==============+===============================+\n",
      "| MealPrepared(0) | Satisfied(0) |                        0.7429 |\n",
      "+-----------------+--------------+-------------------------------+\n",
      "| MealPrepared(0) | Satisfied(1) |                        0.0391 |\n",
      "+-----------------+--------------+-------------------------------+\n",
      "| MealPrepared(1) | Satisfied(0) |                        0.1010 |\n",
      "+-----------------+--------------+-------------------------------+\n",
      "| MealPrepared(1) | Satisfied(1) |                        0.0252 |\n",
      "+-----------------+--------------+-------------------------------+\n",
      "| MealPrepared(2) | Satisfied(0) |                        0.0459 |\n",
      "+-----------------+--------------+-------------------------------+\n",
      "| MealPrepared(2) | Satisfied(1) |                        0.0459 |\n",
      "+-----------------+--------------+-------------------------------+\n"
     ]
    }
   ],
   "source": [
    "prob_satisfied_grocery_bought = food_infere.query(variables = ['Satisfied', 'MealPrepared'] )\n",
    "print(prob_satisfied_grocery_bought)"
   ]
  },
  {
   "cell_type": "code",
   "execution_count": 93,
   "id": "809fe697",
   "metadata": {},
   "outputs": [
    {
     "data": {
      "application/vnd.jupyter.widget-view+json": {
       "model_id": "69f33e140ebb48ae96ab749340d4f0a2",
       "version_major": 2,
       "version_minor": 0
      },
      "text/plain": [
       "  0%|          | 0/2 [00:00<?, ?it/s]"
      ]
     },
     "metadata": {},
     "output_type": "display_data"
    },
    {
     "data": {
      "application/vnd.jupyter.widget-view+json": {
       "model_id": "411c687b077e4fd48fa31a2bd1f3a668",
       "version_major": 2,
       "version_minor": 0
      },
      "text/plain": [
       "  0%|          | 0/2 [00:00<?, ?it/s]"
      ]
     },
     "metadata": {},
     "output_type": "display_data"
    },
    {
     "name": "stdout",
     "output_type": "stream",
     "text": [
      "+--------------+------------------+\n",
      "| Satisfied    |   phi(Satisfied) |\n",
      "+==============+==================+\n",
      "| Satisfied(0) |           0.8420 |\n",
      "+--------------+------------------+\n",
      "| Satisfied(1) |           0.1580 |\n",
      "+--------------+------------------+\n"
     ]
    }
   ],
   "source": [
    "prob_satisfied_no_grocery = food_infere.query( variables = ['Satisfied'], evidence={'GroceryShopping':0} )\n",
    "print(prob_satisfied_no_grocery)"
   ]
  },
  {
   "cell_type": "code",
   "execution_count": 94,
   "id": "f2a13a52",
   "metadata": {},
   "outputs": [
    {
     "data": {
      "application/vnd.jupyter.widget-view+json": {
       "model_id": "7d2a3fe4bc8c4ac6894457fc171de21b",
       "version_major": 2,
       "version_minor": 0
      },
      "text/plain": [
       "  0%|          | 0/2 [00:00<?, ?it/s]"
      ]
     },
     "metadata": {},
     "output_type": "display_data"
    },
    {
     "data": {
      "application/vnd.jupyter.widget-view+json": {
       "model_id": "81e6b517411a48faa7aca6e8688617de",
       "version_major": 2,
       "version_minor": 0
      },
      "text/plain": [
       "  0%|          | 0/2 [00:00<?, ?it/s]"
      ]
     },
     "metadata": {},
     "output_type": "display_data"
    },
    {
     "name": "stdout",
     "output_type": "stream",
     "text": [
      "+--------------+------------------+\n",
      "| Satisfied    |   phi(Satisfied) |\n",
      "+==============+==================+\n",
      "| Satisfied(0) |           0.9017 |\n",
      "+--------------+------------------+\n",
      "| Satisfied(1) |           0.0983 |\n",
      "+--------------+------------------+\n"
     ]
    }
   ],
   "source": [
    "prob_satisfied_grocery_bought = food_infere.query( variables = ['Satisfied'], evidence={'GroceryShopping':1} )\n",
    "print(prob_satisfied_grocery_bought)"
   ]
  },
  {
   "cell_type": "code",
   "execution_count": 95,
   "id": "51c7ef57",
   "metadata": {},
   "outputs": [
    {
     "data": {
      "application/vnd.jupyter.widget-view+json": {
       "model_id": "6f04cadfd0844a36a573792f5d2f1d43",
       "version_major": 2,
       "version_minor": 0
      },
      "text/plain": [
       "  0%|          | 0/1 [00:00<?, ?it/s]"
      ]
     },
     "metadata": {},
     "output_type": "display_data"
    },
    {
     "data": {
      "application/vnd.jupyter.widget-view+json": {
       "model_id": "f66d47a5c2c34ea1ab6d4a82122a01ab",
       "version_major": 2,
       "version_minor": 0
      },
      "text/plain": [
       "  0%|          | 0/1 [00:00<?, ?it/s]"
      ]
     },
     "metadata": {},
     "output_type": "display_data"
    },
    {
     "name": "stdout",
     "output_type": "stream",
     "text": [
      "+--------------+------------------+\n",
      "| Satisfied    |   phi(Satisfied) |\n",
      "+==============+==================+\n",
      "| Satisfied(0) |           0.9290 |\n",
      "+--------------+------------------+\n",
      "| Satisfied(1) |           0.0710 |\n",
      "+--------------+------------------+\n"
     ]
    }
   ],
   "source": [
    "prob_satisfied_grocery_bought_have_cookingTime = food_infere.query( variables = ['Satisfied'], evidence={'GroceryShopping':1, 'CookingTime':1} )\n",
    "print(prob_satisfied_grocery_bought_have_cookingTime)"
   ]
  },
  {
   "cell_type": "code",
   "execution_count": 100,
   "id": "030e6d1d",
   "metadata": {},
   "outputs": [
    {
     "data": {
      "application/vnd.jupyter.widget-view+json": {
       "model_id": "607848363b7c4dd7a4dd2e4b3ce2afdd",
       "version_major": 2,
       "version_minor": 0
      },
      "text/plain": [
       "  0%|          | 0/1 [00:00<?, ?it/s]"
      ]
     },
     "metadata": {},
     "output_type": "display_data"
    },
    {
     "data": {
      "application/vnd.jupyter.widget-view+json": {
       "model_id": "a196dd16ec114152b86e97052569e97f",
       "version_major": 2,
       "version_minor": 0
      },
      "text/plain": [
       "  0%|          | 0/1 [00:00<?, ?it/s]"
      ]
     },
     "metadata": {},
     "output_type": "display_data"
    },
    {
     "name": "stdout",
     "output_type": "stream",
     "text": [
      "+--------------------+------------------------+\n",
      "| GroceryShopping    |   phi(GroceryShopping) |\n",
      "+====================+========================+\n",
      "| GroceryShopping(0) |                 0.3377 |\n",
      "+--------------------+------------------------+\n",
      "| GroceryShopping(1) |                 0.6623 |\n",
      "+--------------------+------------------------+\n"
     ]
    }
   ],
   "source": [
    "prob_grocery_bought_if_mealPrep_amazing = food_infere.query(variables=['GroceryShopping'],\n",
    "                                                           evidence={'MealPrepared':2})\n",
    "print(prob_grocery_bought_if_mealPrep_amazing)"
   ]
  },
  {
   "cell_type": "code",
   "execution_count": 101,
   "id": "84950512",
   "metadata": {},
   "outputs": [
    {
     "data": {
      "application/vnd.jupyter.widget-view+json": {
       "model_id": "fd1753dd9f7548f8b7042b539e5f117f",
       "version_major": 2,
       "version_minor": 0
      },
      "text/plain": [
       "0it [00:00, ?it/s]"
      ]
     },
     "metadata": {},
     "output_type": "display_data"
    },
    {
     "data": {
      "application/vnd.jupyter.widget-view+json": {
       "model_id": "82de8c30fd8e425faf8dc31a416e2923",
       "version_major": 2,
       "version_minor": 0
      },
      "text/plain": [
       "0it [00:00, ?it/s]"
      ]
     },
     "metadata": {},
     "output_type": "display_data"
    },
    {
     "name": "stdout",
     "output_type": "stream",
     "text": [
      "+--------------------+------------------------+\n",
      "| GroceryShopping    |   phi(GroceryShopping) |\n",
      "+====================+========================+\n",
      "| GroceryShopping(0) |                 0.2000 |\n",
      "+--------------------+------------------------+\n",
      "| GroceryShopping(1) |                 0.8000 |\n",
      "+--------------------+------------------------+\n"
     ]
    }
   ],
   "source": [
    "prob_grocery_bought_if_no_cookingtime = food_infere.query(variables=['GroceryShopping'], \n",
    "                                                          evidence= {'CookingTime':1} )\n",
    "print(prob_grocery_bought_if_no_cookingtime )"
   ]
  },
  {
   "cell_type": "code",
   "execution_count": 102,
   "id": "0f105727",
   "metadata": {},
   "outputs": [
    {
     "data": {
      "application/vnd.jupyter.widget-view+json": {
       "model_id": "13f20fae60f54ee2bfd42af5370f93ff",
       "version_major": 2,
       "version_minor": 0
      },
      "text/plain": [
       "0it [00:00, ?it/s]"
      ]
     },
     "metadata": {},
     "output_type": "display_data"
    },
    {
     "data": {
      "application/vnd.jupyter.widget-view+json": {
       "model_id": "5582f9da629c439fb002c79fd3564c73",
       "version_major": 2,
       "version_minor": 0
      },
      "text/plain": [
       "0it [00:00, ?it/s]"
      ]
     },
     "metadata": {},
     "output_type": "display_data"
    },
    {
     "name": "stdout",
     "output_type": "stream",
     "text": [
      "+--------------------+------------------------+\n",
      "| GroceryShopping    |   phi(GroceryShopping) |\n",
      "+====================+========================+\n",
      "| GroceryShopping(0) |                 0.3846 |\n",
      "+--------------------+------------------------+\n",
      "| GroceryShopping(1) |                 0.6154 |\n",
      "+--------------------+------------------------+\n"
     ]
    }
   ],
   "source": [
    "prob_grocery_bought_if_no_cookingtime_good_mealprepared = food_infere.query(\n",
    "                                                            variables=['GroceryShopping'], \n",
    "                                                          evidence= {'CookingTime':1,\n",
    "                                                                     'MealPrepared':2} )\n",
    "print(prob_grocery_bought_if_no_cookingtime_good_mealprepared) "
   ]
  },
  {
   "cell_type": "code",
   "execution_count": 103,
   "id": "1735298f",
   "metadata": {},
   "outputs": [],
   "source": [
    "# Most Probable state for a variable"
   ]
  },
  {
   "cell_type": "code",
   "execution_count": 104,
   "id": "802d84e6",
   "metadata": {},
   "outputs": [
    {
     "data": {
      "application/vnd.jupyter.widget-view+json": {
       "model_id": "ab709719d60d46e491dbbd702e828a13",
       "version_major": 2,
       "version_minor": 0
      },
      "text/plain": [
       "0it [00:00, ?it/s]"
      ]
     },
     "metadata": {},
     "output_type": "display_data"
    },
    {
     "data": {
      "application/vnd.jupyter.widget-view+json": {
       "model_id": "2849c7589a904e5b959e68558e7bf21a",
       "version_major": 2,
       "version_minor": 0
      },
      "text/plain": [
       "0it [00:00, ?it/s]"
      ]
     },
     "metadata": {},
     "output_type": "display_data"
    },
    {
     "data": {
      "text/plain": [
       "{'GroceryShopping': 1}"
      ]
     },
     "execution_count": 104,
     "metadata": {},
     "output_type": "execute_result"
    }
   ],
   "source": [
    "food_infere.map_query(variables=['GroceryShopping'])"
   ]
  },
  {
   "cell_type": "code",
   "execution_count": 105,
   "id": "2d1e8446",
   "metadata": {},
   "outputs": [
    {
     "data": {
      "application/vnd.jupyter.widget-view+json": {
       "model_id": "3941e83391a34c16b6bd28c695b71c57",
       "version_major": 2,
       "version_minor": 0
      },
      "text/plain": [
       "  0%|          | 0/3 [00:00<?, ?it/s]"
      ]
     },
     "metadata": {},
     "output_type": "display_data"
    },
    {
     "data": {
      "application/vnd.jupyter.widget-view+json": {
       "model_id": "aab980fba3c641279687890fabb01ad7",
       "version_major": 2,
       "version_minor": 0
      },
      "text/plain": [
       "  0%|          | 0/3 [00:00<?, ?it/s]"
      ]
     },
     "metadata": {},
     "output_type": "display_data"
    },
    {
     "data": {
      "text/plain": [
       "{'Satisfied': 0}"
      ]
     },
     "execution_count": 105,
     "metadata": {},
     "output_type": "execute_result"
    }
   ],
   "source": [
    "food_infere.map_query(variables=['Satisfied'])"
   ]
  },
  {
   "cell_type": "code",
   "execution_count": 106,
   "id": "64111b75",
   "metadata": {},
   "outputs": [
    {
     "data": {
      "application/vnd.jupyter.widget-view+json": {
       "model_id": "987b11cb4b594d6584393fcf3c3ab37c",
       "version_major": 2,
       "version_minor": 0
      },
      "text/plain": [
       "  0%|          | 0/2 [00:00<?, ?it/s]"
      ]
     },
     "metadata": {},
     "output_type": "display_data"
    },
    {
     "data": {
      "application/vnd.jupyter.widget-view+json": {
       "model_id": "691a2ffcb6dc4381b988441efe7111ad",
       "version_major": 2,
       "version_minor": 0
      },
      "text/plain": [
       "  0%|          | 0/2 [00:00<?, ?it/s]"
      ]
     },
     "metadata": {},
     "output_type": "display_data"
    },
    {
     "data": {
      "text/plain": [
       "{'MealPrepared': 0}"
      ]
     },
     "execution_count": 106,
     "metadata": {},
     "output_type": "execute_result"
    }
   ],
   "source": [
    "food_infere.map_query(variables=['MealPrepared'])"
   ]
  },
  {
   "cell_type": "code",
   "execution_count": 107,
   "id": "4e3915db",
   "metadata": {},
   "outputs": [
    {
     "data": {
      "application/vnd.jupyter.widget-view+json": {
       "model_id": "b5fb859221784bf8ad2ff06bfd4357a9",
       "version_major": 2,
       "version_minor": 0
      },
      "text/plain": [
       "0it [00:00, ?it/s]"
      ]
     },
     "metadata": {},
     "output_type": "display_data"
    },
    {
     "data": {
      "application/vnd.jupyter.widget-view+json": {
       "model_id": "015ec17c9f5542ec800c121c7700db9e",
       "version_major": 2,
       "version_minor": 0
      },
      "text/plain": [
       "0it [00:00, ?it/s]"
      ]
     },
     "metadata": {},
     "output_type": "display_data"
    },
    {
     "data": {
      "text/plain": [
       "{'CookingTime': 0}"
      ]
     },
     "execution_count": 107,
     "metadata": {},
     "output_type": "execute_result"
    }
   ],
   "source": [
    "food_infere.map_query(variables=['CookingTime'])"
   ]
  },
  {
   "cell_type": "code",
   "execution_count": null,
   "id": "403f34b3",
   "metadata": {},
   "outputs": [],
   "source": []
  }
 ],
 "metadata": {
  "kernelspec": {
   "display_name": "Python 3 (ipykernel)",
   "language": "python",
   "name": "python3"
  },
  "language_info": {
   "codemirror_mode": {
    "name": "ipython",
    "version": 3
   },
   "file_extension": ".py",
   "mimetype": "text/x-python",
   "name": "python",
   "nbconvert_exporter": "python",
   "pygments_lexer": "ipython3",
   "version": "3.9.12"
  }
 },
 "nbformat": 4,
 "nbformat_minor": 5
}
